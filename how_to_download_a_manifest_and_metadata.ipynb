{
 "cells": [
  {
   "cell_type": "markdown",
   "metadata": {},
   "source": [
    "# Download TCGA data from the GDC Data Portal as a GCT file"
   ]
  },
  {
   "cell_type": "markdown",
   "metadata": {},
   "source": [
    "<div class=\"alert alert-info\">\n",
    "If you'd like a more comprehensive tutorial of the GDC website, you can find it here: https://docs.gdc.cancer.gov/Data_Portal/Users_Guide/Getting_Started/\n",
    "</div>"
   ]
  },
  {
   "cell_type": "markdown",
   "metadata": {},
   "source": [
    "## Download a Manifiest and Metadata files from the GDC data portal\n",
    "\n",
    "FAQ: What is a manifest file?"
   ]
  },
  {
   "cell_type": "markdown",
   "metadata": {},
   "source": [
    "## 1. Navigate to the GDC Data Portal\n",
    "    - Navigate to gdc.cancer.gov \n",
    "    - Click Launch Data Portal at the bottom of the homescreen\n",
    "<img src=\"https://raw.githubusercontent.com/edjuaro/tcga/master/images/1_navigate_to_data_portal.png\" width=\"100%\">"
   ]
  },
  {
   "cell_type": "markdown",
   "metadata": {},
   "source": [
    "### 2. Type the name of the dataset\n",
    "- Type the name of the dataset we are looking for \"BRCA\"\n",
    "- Select the \"TCGA-BRCA\" dataset\n",
    "\n",
    "<img src=\"https://raw.githubusercontent.com/edjuaro/tcga/59ffb00d025388d253e7f3911eabbee0521d5728/images/2_type_name_of_dataset.png\" width=\"100%\">"
   ]
  },
  {
   "cell_type": "markdown",
   "metadata": {},
   "source": [
    "### 3. Select datata type\n",
    "- In the \"Experimental Strategy\" panel, select RNA-Seq (click on the number of cases) \n",
    "\n",
    "<img src=\"https://raw.githubusercontent.com/edjuaro/tcga/master/images/3_select_data_type.png\" width=\"100%\">"
   ]
  },
  {
   "cell_type": "markdown",
   "metadata": {},
   "source": [
    "### 4. Navigate to files tab\n",
    "- In the upper left corner, click on the files tab \n",
    "\n",
    "<img src=\"https://raw.githubusercontent.com/edjuaro/tcga/master/images/4_navigate_to_files_tab.png\" width=\"100%\">"
   ]
  },
  {
   "cell_type": "markdown",
   "metadata": {},
   "source": [
    "### 5. Select HTSeq counts\n",
    "- In the Workflow Type panel, click on \"HTSeq - Counts\" \n",
    "\n",
    "<img src=\"https://raw.githubusercontent.com/edjuaro/tcga/master/images/5_select_HTSeq_counts.png\">"
   ]
  },
  {
   "cell_type": "markdown",
   "metadata": {},
   "source": [
    "### 6. Add files to Cart\n",
    "- Click the button \"🛒 Add All Files to Cart\"\n",
    "- Then click on \"🛒 Cart\" in the top right corner\n",
    "<img src=\"https://raw.githubusercontent.com/edjuaro/tcga/master/images/6_click_all_files_to_cart.png\">"
   ]
  },
  {
   "cell_type": "markdown",
   "metadata": {},
   "source": [
    "### 7. Download Metadata File\n",
    "- Click on the \"📥 Metadata\" button\n",
    "<img src=\"https://raw.githubusercontent.com/edjuaro/tcga/master/images/7_download_metadata.png\">"
   ]
  },
  {
   "cell_type": "markdown",
   "metadata": {},
   "source": [
    "### 8. Download Manifest File\n",
    "- Hover your mouse over thhe \"📥 Download\" button and click on \"📥 Manifest\"\n",
    "<img src=\"https://raw.githubusercontent.com/edjuaro/tcga/master/images/8_download_manifest.png\">"
   ]
  }
 ],
 "metadata": {
  "kernelspec": {
   "display_name": "Python 3",
   "language": "python",
   "name": "python3"
  },
  "language_info": {
   "codemirror_mode": {
    "name": "ipython",
    "version": 3
   },
   "file_extension": ".py",
   "mimetype": "text/x-python",
   "name": "python",
   "nbconvert_exporter": "python",
   "pygments_lexer": "ipython3",
   "version": "3.6.5"
  }
 },
 "nbformat": 4,
 "nbformat_minor": 2
}
